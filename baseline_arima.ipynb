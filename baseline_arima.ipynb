{
  "nbformat": 4,
  "nbformat_minor": 0,
  "metadata": {
    "colab": {
      "name": "baseline_arima.ipynb",
      "provenance": [],
      "collapsed_sections": []
    },
    "kernelspec": {
      "name": "python3",
      "display_name": "Python 3"
    },
    "language_info": {
      "name": "python"
    }
  },
  "cells": [
    {
      "cell_type": "markdown",
      "source": [
        "# Setup"
      ],
      "metadata": {
        "id": "Gf6tRvuqCZdO"
      }
    },
    {
      "cell_type": "markdown",
      "source": [
        "## Install libraries and download data to the machine"
      ],
      "metadata": {
        "id": "Q6quvevkCxaS"
      }
    },
    {
      "cell_type": "code",
      "execution_count": 1,
      "metadata": {
        "id": "7VH1U_ZfLZST"
      },
      "outputs": [],
      "source": [
        "%%capture\n",
        "!pip install pmdarima\n",
        "!pip install --upgrade --no-cache-dir gdown"
      ]
    },
    {
      "cell_type": "code",
      "source": [
        "!gdown --id 19t92-s00cmz6BMoxj1IsxCywq_j9jEC0"
      ],
      "metadata": {
        "id": "CBGTaDebTXXp",
        "colab": {
          "base_uri": "https://localhost:8080/"
        },
        "outputId": "f13fa650-e4b9-4962-d4a4-d50519a2d853"
      },
      "execution_count": 2,
      "outputs": [
        {
          "output_type": "stream",
          "name": "stdout",
          "text": [
            "/usr/local/lib/python3.7/dist-packages/gdown/cli.py:131: FutureWarning: Option `--id` was deprecated in version 4.3.1 and will be removed in 5.0. You don't need to pass it anymore to use a file ID.\n",
            "  category=FutureWarning,\n",
            "Downloading...\n",
            "From: https://drive.google.com/uc?id=19t92-s00cmz6BMoxj1IsxCywq_j9jEC0\n",
            "To: /content/book-COINBASE-BTC-USD.csv\n",
            "100% 282M/282M [00:15<00:00, 18.7MB/s]\n"
          ]
        }
      ]
    },
    {
      "cell_type": "markdown",
      "source": [
        "## Import libraries and load data to the notebook"
      ],
      "metadata": {
        "id": "E2Q3CSv-C4tS"
      }
    },
    {
      "cell_type": "code",
      "source": [
        "import pandas as pd\n",
        "import numpy as np\n",
        "import matplotlib.pyplot as plt\n",
        "from pandas.plotting import lag_plot\n",
        "from pmdarima.arima import auto_arima\n",
        "from statsmodels.tsa.arima.model import ARIMA\n",
        "from pmdarima.arima import ndiffs\n",
        "from sklearn.metrics import mean_squared_error\n",
        "\n",
        "from tqdm import tqdm\n",
        "import pickle"
      ],
      "metadata": {
        "id": "a2bf4fYEL5hw"
      },
      "execution_count": 13,
      "outputs": []
    },
    {
      "cell_type": "code",
      "source": [
        "BOOK_DATA_PATH = \"book-COINBASE-BTC-USD.csv\"\n",
        "df_total = pd.read_csv(BOOK_DATA_PATH, index_col='timestamp', parse_dates=True).sort_index()\n",
        "df_total = df_total[~df_total.index.duplicated(keep='first')]"
      ],
      "metadata": {
        "id": "crrlDHc8dmre"
      },
      "execution_count": 4,
      "outputs": []
    },
    {
      "cell_type": "markdown",
      "source": [
        "# Endogenous version"
      ],
      "metadata": {
        "id": "Qt8yxphBDAu3"
      }
    },
    {
      "cell_type": "markdown",
      "source": [
        "## Data preparation"
      ],
      "metadata": {
        "id": "cXOVAVhv6jPx"
      }
    },
    {
      "cell_type": "code",
      "source": [
        "# midprice\n",
        "kernel_size = 20\n",
        "mid_price = (df_total['ap0'] + df_total['bp0']) / 2\n",
        "m_minus = mid_price.rolling(kernel_size).mean()\n",
        "\n",
        "m_minus = m_minus.dropna()[::kernel_size]\n",
        "print(\"Time series shape:\", m_minus.shape)\n",
        "m_minus.head(3)"
      ],
      "metadata": {
        "colab": {
          "base_uri": "https://localhost:8080/"
        },
        "id": "ZcI3Ma-_MOL_",
        "outputId": "f4cea4ae-6e39-407a-c5e4-660c86b32956"
      },
      "execution_count": 5,
      "outputs": [
        {
          "output_type": "stream",
          "name": "stdout",
          "text": [
            "Time series shape: (34962,)\n"
          ]
        },
        {
          "output_type": "execute_result",
          "data": {
            "text/plain": [
              "timestamp\n",
              "2022-02-13 21:00:01.039    42462.27450\n",
              "2022-02-13 21:00:02.067    42465.53825\n",
              "2022-02-13 21:00:03.112    42462.39050\n",
              "dtype: float64"
            ]
          },
          "metadata": {},
          "execution_count": 5
        }
      ]
    },
    {
      "cell_type": "code",
      "source": [
        "train_len = int(len(m_minus) * 0.8)\n",
        "train, test = m_minus[:train_len], m_minus[train_len:]"
      ],
      "metadata": {
        "id": "MtDj4F5UnAlM"
      },
      "execution_count": null,
      "outputs": []
    },
    {
      "cell_type": "markdown",
      "source": [
        "## Data exploration"
      ],
      "metadata": {
        "id": "SIQg-wU-6qYR"
      }
    },
    {
      "cell_type": "code",
      "source": [
        "plt.figure(figsize=(18, 5))\n",
        "plt.plot(train, label='m-')\n",
        "plt.legend()\n",
        "plt.show()"
      ],
      "metadata": {
        "colab": {
          "base_uri": "https://localhost:8080/",
          "height": 320
        },
        "id": "A--_UxJ2vjpb",
        "outputId": "706749f1-1754-48e7-9415-7c276a1c06ed"
      },
      "execution_count": null,
      "outputs": [
        {
          "output_type": "display_data",
          "data": {
            "text/plain": [
              "<Figure size 1296x360 with 1 Axes>"
            ],
            "image/png": "[encoded data removed]"
          },
          "metadata": {
            "needs_background": "light"
          }
        }
      ]
    },
    {
      "cell_type": "code",
      "source": [
        "train_centered = train.copy() - train.mean()\n",
        "plt.acorr(train_centered, maxlags=400, usevlines=False)\n",
        "plt.xlim(-1)\n",
        "plt.ylim(0)\n",
        "plt.show()"
      ],
      "metadata": {
        "colab": {
          "base_uri": "https://localhost:8080/",
          "height": 268
        },
        "id": "d7KfNeaUBIy3",
        "outputId": "d99c3c83-110f-43f8-ad5b-4b7719e362da"
      },
      "execution_count": null,
      "outputs": [
        {
          "output_type": "display_data",
          "data": {
            "text/plain": [
              "<Figure size 432x288 with 1 Axes>"
            ],
            "image/png": "[encoded data removed]"
          },
          "metadata": {
            "needs_background": "light"
          }
        }
      ]
    },
    {
      "cell_type": "code",
      "source": [
        "fig, axes = plt.subplots(3, 2, figsize=(8, 12))\n",
        "\n",
        "# The axis coordinates for the plots\n",
        "ax_idcs = [\n",
        "    (0, 0),\n",
        "    (0, 1),\n",
        "    (1, 0),\n",
        "    (1, 1),\n",
        "    (2, 0),\n",
        "    (2, 1)\n",
        "]\n",
        "\n",
        "for lag, ax_coords in enumerate(ax_idcs, 1):\n",
        "    lag *= 2\n",
        "    ax_row, ax_col = ax_coords\n",
        "    axis = axes[ax_row][ax_col]\n",
        "    lag_plot(train, lag=lag, ax=axis)\n",
        "    axis.set_title(f\"Lag={lag}\")\n",
        "\n",
        "plt.show()"
      ],
      "metadata": {
        "colab": {
          "base_uri": "https://localhost:8080/",
          "height": 730
        },
        "id": "00Q-zkS6DkI4",
        "outputId": "400b7239-4b7c-4eea-ede1-f5acbfed28c2"
      },
      "execution_count": null,
      "outputs": [
        {
          "output_type": "display_data",
          "data": {
            "text/plain": [
              "<Figure size 576x864 with 6 Axes>"
            ],
            "image/png": "[encoded data removed]"
          },
          "metadata": {
            "needs_background": "light"
          }
        }
      ]
    },
    {
      "cell_type": "markdown",
      "source": [
        "## ARIMA fitting"
      ],
      "metadata": {
        "id": "J_1mh5w86v3w"
      }
    },
    {
      "cell_type": "code",
      "source": [
        "kpss_diffs = ndiffs(train, alpha=0.05, test='kpss', max_d=6)\n",
        "adf_diffs = ndiffs(train, alpha=0.05, test='adf', max_d=6)\n",
        "n_diffs = max(adf_diffs, kpss_diffs)\n",
        "\n",
        "print(f\"Estimated differencing term: {n_diffs}\")"
      ],
      "metadata": {
        "colab": {
          "base_uri": "https://localhost:8080/"
        },
        "id": "_OCNU2QkET5X",
        "outputId": "97d1bc52-7eb8-481b-9635-8c706be2302b"
      },
      "execution_count": null,
      "outputs": [
        {
          "output_type": "stream",
          "name": "stdout",
          "text": [
            "Estimated differencing term: 1\n"
          ]
        }
      ]
    },
    {
      "cell_type": "code",
      "source": [
        "auto = auto_arima(train, d=n_diffs, seasonal=False, stepwise=True,\n",
        "                  suppress_warnings=True, error_action=\"ignore\",\n",
        "                  max_order=None, trace=True)"
      ],
      "metadata": {
        "colab": {
          "base_uri": "https://localhost:8080/"
        },
        "id": "Tq7j_D7SFIuX",
        "outputId": "6221b31c-9e4a-44ec-a911-7c7ffea9fdc0"
      },
      "execution_count": null,
      "outputs": [
        {
          "output_type": "stream",
          "name": "stdout",
          "text": [
            "Performing stepwise search to minimize aic\n",
            " ARIMA(2,1,2)(0,0,0)[0] intercept   : AIC=147439.270, Time=24.04 sec\n",
            " ARIMA(0,1,0)(0,0,0)[0] intercept   : AIC=148979.803, Time=0.80 sec\n",
            " ARIMA(1,1,0)(0,0,0)[0] intercept   : AIC=147545.704, Time=1.79 sec\n",
            " ARIMA(0,1,1)(0,0,0)[0] intercept   : AIC=147439.410, Time=4.85 sec\n",
            " ARIMA(0,1,0)(0,0,0)[0]             : AIC=148978.570, Time=0.33 sec\n",
            " ARIMA(1,1,2)(0,0,0)[0] intercept   : AIC=147435.194, Time=9.40 sec\n",
            " ARIMA(0,1,2)(0,0,0)[0] intercept   : AIC=147439.489, Time=7.09 sec\n",
            " ARIMA(1,1,1)(0,0,0)[0] intercept   : AIC=147439.414, Time=7.57 sec\n",
            " ARIMA(1,1,3)(0,0,0)[0] intercept   : AIC=147435.658, Time=22.15 sec\n",
            " ARIMA(0,1,3)(0,0,0)[0] intercept   : AIC=147441.028, Time=8.90 sec\n",
            " ARIMA(2,1,1)(0,0,0)[0] intercept   : AIC=147440.604, Time=14.75 sec\n",
            " ARIMA(2,1,3)(0,0,0)[0] intercept   : AIC=147427.607, Time=82.24 sec\n",
            " ARIMA(3,1,3)(0,0,0)[0] intercept   : AIC=147414.909, Time=33.03 sec\n",
            " ARIMA(3,1,2)(0,0,0)[0] intercept   : AIC=147427.564, Time=39.22 sec\n",
            " ARIMA(4,1,3)(0,0,0)[0] intercept   : AIC=147413.663, Time=71.67 sec\n",
            " ARIMA(4,1,2)(0,0,0)[0] intercept   : AIC=147411.915, Time=26.53 sec\n",
            " ARIMA(4,1,1)(0,0,0)[0] intercept   : AIC=147413.788, Time=32.36 sec\n",
            " ARIMA(5,1,2)(0,0,0)[0] intercept   : AIC=147414.655, Time=36.12 sec\n",
            " ARIMA(3,1,1)(0,0,0)[0] intercept   : AIC=147440.761, Time=25.31 sec\n",
            " ARIMA(5,1,1)(0,0,0)[0] intercept   : AIC=147412.932, Time=12.82 sec\n",
            " ARIMA(5,1,3)(0,0,0)[0] intercept   : AIC=147415.737, Time=39.05 sec\n",
            " ARIMA(4,1,2)(0,0,0)[0]             : AIC=147410.501, Time=12.85 sec\n",
            " ARIMA(3,1,2)(0,0,0)[0]             : AIC=147426.153, Time=12.94 sec\n",
            " ARIMA(4,1,1)(0,0,0)[0]             : AIC=147412.381, Time=13.72 sec\n",
            " ARIMA(5,1,2)(0,0,0)[0]             : AIC=147413.244, Time=12.41 sec\n",
            " ARIMA(4,1,3)(0,0,0)[0]             : AIC=147412.351, Time=15.13 sec\n",
            " ARIMA(3,1,1)(0,0,0)[0]             : AIC=147439.297, Time=8.86 sec\n",
            " ARIMA(3,1,3)(0,0,0)[0]             : AIC=147413.481, Time=11.70 sec\n",
            " ARIMA(5,1,1)(0,0,0)[0]             : AIC=147411.523, Time=3.24 sec\n",
            " ARIMA(5,1,3)(0,0,0)[0]             : AIC=147414.321, Time=13.17 sec\n",
            "\n",
            "Best model:  ARIMA(4,1,2)(0,0,0)[0]          \n",
            "Total fit time: 604.046 seconds\n"
          ]
        }
      ]
    },
    {
      "cell_type": "code",
      "source": [
        "save_model = False\n",
        "\n",
        "if save_model:\n",
        "    with open('trained_arima.pickle', 'wb') as handle:\n",
        "        pickle.dump(auto, handle)"
      ],
      "metadata": {
        "id": "g-YX-RSYraGh"
      },
      "execution_count": null,
      "outputs": []
    },
    {
      "cell_type": "markdown",
      "source": [
        "## Testing"
      ],
      "metadata": {
        "id": "pEcaKueS7j9O"
      }
    },
    {
      "cell_type": "code",
      "source": [
        "test_small = test[:100]"
      ],
      "metadata": {
        "id": "ojkCfVil1Gz-"
      },
      "execution_count": null,
      "outputs": []
    },
    {
      "cell_type": "code",
      "source": [
        "model = auto  # seeded from the model we've already fit\n",
        "\n",
        "def forecast_one_step():\n",
        "    fc = model.predict(n_periods=1)\n",
        "    return fc.tolist()[0]\n",
        "\n",
        "forecasts = []\n",
        "\n",
        "for new_ob in tqdm(test_small):\n",
        "    fc = forecast_one_step()\n",
        "    forecasts.append(fc)\n",
        "\n",
        "    # Updates the existing model with a small number of MLE steps\n",
        "    model.update(new_ob)\n",
        "\n",
        "print(f\"\\nMean squared error: {mean_squared_error(test_small, forecasts):.2f}\")\n",
        "print(f\"Compare to standard deviation of test data: {np.std(test_small):.2f}\")"
      ],
      "metadata": {
        "colab": {
          "base_uri": "https://localhost:8080/"
        },
        "id": "PBbwUTC0sxiv",
        "outputId": "0f664166-ddf3-416c-b012-bb1530f2e319"
      },
      "execution_count": null,
      "outputs": [
        {
          "output_type": "stream",
          "name": "stderr",
          "text": [
            "100%|██████████| 100/100 [03:52<00:00,  2.32s/it]"
          ]
        },
        {
          "output_type": "stream",
          "name": "stdout",
          "text": [
            "\n",
            "Mean squared error: 5.95\n",
            "Compare to standard deviation of test data: 4.44\n"
          ]
        },
        {
          "output_type": "stream",
          "name": "stderr",
          "text": [
            "\n"
          ]
        }
      ]
    },
    {
      "cell_type": "markdown",
      "source": [
        "# Model with exogeneous features"
      ],
      "metadata": {
        "id": "CiYtlW9N8PNd"
      }
    },
    {
      "cell_type": "markdown",
      "source": [
        "## Sanity check: supplying information from future as exogeneous features"
      ],
      "metadata": {
        "id": "EzcqNqxN1yho"
      }
    },
    {
      "cell_type": "code",
      "source": [
        "X = mid_price.to_numpy()[:len(m_minus) * kernel_size].reshape(len(m_minus), 20)\n",
        "print(X.shape)\n",
        "assert np.allclose(m_minus.to_numpy(), X.mean(axis=1))"
      ],
      "metadata": {
        "colab": {
          "base_uri": "https://localhost:8080/"
        },
        "id": "qQrZPl1s0ABE",
        "outputId": "e0b015fb-bcec-4946-800b-15a66e1efc3b"
      },
      "execution_count": 6,
      "outputs": [
        {
          "output_type": "stream",
          "name": "stdout",
          "text": [
            "(34962, 20)\n"
          ]
        }
      ]
    },
    {
      "cell_type": "code",
      "source": [
        "X_train, X_test = X[:train_len], X[train_len:]"
      ],
      "metadata": {
        "id": "sXkhUzCq46Sn"
      },
      "execution_count": null,
      "outputs": []
    },
    {
      "cell_type": "code",
      "source": [
        "auto = auto_arima(train, X=X_train, d=n_diffs, seasonal=False, stepwise=True,\n",
        "                  suppress_warnings=True, error_action=\"ignore\",\n",
        "                  max_order=None, trace=True)"
      ],
      "metadata": {
        "colab": {
          "base_uri": "https://localhost:8080/"
        },
        "id": "moiCJzYi2P-e",
        "outputId": "c80d9e74-189f-41dd-d2d5-e9da21fa8f98"
      },
      "execution_count": null,
      "outputs": [
        {
          "output_type": "stream",
          "name": "stdout",
          "text": [
            "Performing stepwise search to minimize aic\n",
            " ARIMA(2,1,2)(0,0,0)[0] intercept   : AIC=-592531.373, Time=73.33 sec\n",
            " ARIMA(0,1,0)(0,0,0)[0] intercept   : AIC=-592520.065, Time=49.90 sec\n",
            " ARIMA(1,1,0)(0,0,0)[0] intercept   : AIC=-592497.876, Time=52.13 sec\n",
            " ARIMA(0,1,1)(0,0,0)[0] intercept   : AIC=-592537.039, Time=65.32 sec\n",
            " ARIMA(0,1,0)(0,0,0)[0]             : AIC=-592522.065, Time=47.53 sec\n",
            " ARIMA(1,1,1)(0,0,0)[0] intercept   : AIC=nan, Time=142.41 sec\n",
            " ARIMA(0,1,2)(0,0,0)[0] intercept   : AIC=-592535.264, Time=68.42 sec\n",
            " ARIMA(1,1,2)(0,0,0)[0] intercept   : AIC=-592532.849, Time=72.75 sec\n",
            " ARIMA(0,1,1)(0,0,0)[0]             : AIC=-592539.039, Time=65.98 sec\n",
            " ARIMA(1,1,1)(0,0,0)[0]             : AIC=nan, Time=140.06 sec\n",
            " ARIMA(0,1,2)(0,0,0)[0]             : AIC=-592537.264, Time=66.50 sec\n",
            " ARIMA(1,1,0)(0,0,0)[0]             : AIC=-592499.876, Time=49.84 sec\n",
            " ARIMA(1,1,2)(0,0,0)[0]             : AIC=-592534.849, Time=67.29 sec\n",
            "\n",
            "Best model:  ARIMA(0,1,1)(0,0,0)[0]          \n",
            "Total fit time: 961.516 seconds\n"
          ]
        }
      ]
    },
    {
      "cell_type": "code",
      "source": [
        "X_test_small = X_test[:100]\n",
        "model = auto  # seeded from the model we've already fit\n",
        "\n",
        "forecasts = model.predict(n_periods=len(test_small), X=X_test_small).tolist()\n",
        "\n",
        "print(f\"\\nMean squared error: {mean_squared_error(test_small, forecasts):.3f}\")\n",
        "print(f\"Compare to standard deviation of test data: {np.std(test_small):.3f}\")"
      ],
      "metadata": {
        "colab": {
          "base_uri": "https://localhost:8080/"
        },
        "id": "wDQU1rfq2tq3",
        "outputId": "6f178e74-c2ad-4088-b9d5-d2b361b64b1e"
      },
      "execution_count": null,
      "outputs": [
        {
          "output_type": "stream",
          "name": "stdout",
          "text": [
            "\n",
            "Mean squared error: 0.000\n",
            "Compare to standard deviation of test data: 4.438\n"
          ]
        }
      ]
    },
    {
      "cell_type": "markdown",
      "source": [
        "## Previous midprices as exogenuos features"
      ],
      "metadata": {
        "id": "cARvbJs0UzzU"
      }
    },
    {
      "cell_type": "code",
      "source": [
        "m_minus = m_minus[1:]\n",
        "X = X[:-1]"
      ],
      "metadata": {
        "id": "ZpDXYEJptHN6"
      },
      "execution_count": 7,
      "outputs": []
    },
    {
      "cell_type": "code",
      "source": [
        "train_len = int(len(m_minus) * 0.8)\n",
        "train, test = m_minus[:train_len], m_minus[train_len:]\n",
        "X_train, X_test = X[:train_len], X[train_len:]\n",
        "\n",
        "test_small = test[:30]\n",
        "X_test_small = X_test[:30]"
      ],
      "metadata": {
        "id": "Q2VyHbkoVk-r"
      },
      "execution_count": 8,
      "outputs": []
    },
    {
      "cell_type": "code",
      "source": [
        "tune_hyperparams = False\n",
        "\n",
        "if tune_hyperparams:\n",
        "    auto = auto_arima(train, X=X_train, d=n_diffs, seasonal=False, stepwise=True,\n",
        "                    suppress_warnings=True, error_action=\"ignore\",\n",
        "                    max_order=None, trace=True)\n",
        "else:\n",
        "    order = (0,1,1)\n",
        "    auto = ARIMA(train.to_numpy(), exog=X_train, order=order)\n",
        "    res = auto.fit()"
      ],
      "metadata": {
        "colab": {
          "base_uri": "https://localhost:8080/"
        },
        "id": "x0_mW8C3adCN",
        "outputId": "12391ce8-0436-42fa-c9da-be4fce6743a9"
      },
      "execution_count": 34,
      "outputs": [
        {
          "output_type": "stream",
          "name": "stderr",
          "text": [
            "/usr/local/lib/python3.7/dist-packages/statsmodels/base/model.py:606: ConvergenceWarning: Maximum Likelihood optimization failed to converge. Check mle_retvals\n",
            "  ConvergenceWarning)\n"
          ]
        }
      ]
    },
    {
      "cell_type": "code",
      "source": [
        "from copy import copy, deepcopy\n",
        "res_copy = deepcopy(res)"
      ],
      "metadata": {
        "id": "hf5_gE_gCeAh"
      },
      "execution_count": 35,
      "outputs": []
    },
    {
      "cell_type": "code",
      "source": [
        "test = test.to_numpy()\n",
        "\n",
        "forecasts = []\n",
        "\n",
        "for i in tqdm(range(len(test))):\n",
        "    new_ob = test[i:i+1]\n",
        "\n",
        "    fc = res.forecast(exog=X_test[i:i+1])\n",
        "    forecasts.append(fc.tolist()[0])\n",
        "\n",
        "    res = res.extend(new_ob, exog=X_test[i:i+1])  #, refit=False\n",
        "    # model.update(new_ob, X=X_test_small[i:i+1])\n",
        "\n",
        "print(f\"\\nMean squared error: {mean_squared_error(test, forecasts):.2f}\")\n",
        "print(f\"Compare to standard deviation of test data: {np.std(test):.2f}\")"
      ],
      "metadata": {
        "colab": {
          "base_uri": "https://localhost:8080/"
        },
        "id": "V_ULQZGX3FIp",
        "outputId": "a75379f2-bf26-42a0-a420-c65c09d71d29"
      },
      "execution_count": 40,
      "outputs": [
        {
          "output_type": "stream",
          "name": "stderr",
          "text": [
            "100%|██████████| 6993/6993 [00:53<00:00, 130.43it/s]"
          ]
        },
        {
          "output_type": "stream",
          "name": "stdout",
          "text": [
            "\n",
            "Mean squared error: 7.77\n",
            "Compare to standard deviation of test data: 120.78\n"
          ]
        },
        {
          "output_type": "stream",
          "name": "stderr",
          "text": [
            "\n"
          ]
        }
      ]
    },
    {
      "cell_type": "code",
      "source": [
        ""
      ],
      "metadata": {
        "id": "f0bhHzsIzdR-"
      },
      "execution_count": null,
      "outputs": []
    }
  ]
}