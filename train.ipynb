{
 "cells": [
  {
   "cell_type": "code",
   "execution_count": null,
   "metadata": {},
   "outputs": [],
   "source": [
    "import numpy as np\n",
    "import pandas as pd\n",
    "import math\n",
    "import os\n",
    "from datetime import datetime\n",
    "import joblib\n",
    "import yaml\n",
    "from imblearn.over_sampling import RandomOverSampler\n",
    "from keras.callbacks import ModelCheckpoint\n",
    "from sklearn.model_selection import train_test_split\n",
    "from sklearn.preprocessing import OneHotEncoder, StandardScaler\n",
    "import matplotlib.pyplot as plt\n",
    "\n",
    "from makers.model import build_model\n",
    "from makers.utils import prepare, get_metrics"
   ]
  },
  {
   "cell_type": "code",
   "execution_count": 74,
   "metadata": {},
   "outputs": [],
   "source": [
    "DATA_PATH = \"_input/data/book-COINBASE-BTC-USD.csv\"\n",
    "CONFIG_PATH = \"_input/config.yml\"\n",
    "OUTDIR = '_output'"
   ]
  },
  {
   "cell_type": "code",
   "execution_count": null,
   "metadata": {},
   "outputs": [],
   "source": [
    "# load config\n",
    "config = yaml.safe_load(open(CONFIG_PATH, 'r'))\n",
    "\n",
    "# specify paths\n",
    "model_name = datetime.utcnow().strftime(\"%Y%m%d_%H%M%S\")\n",
    "model_dir = os.path.join(OUTDIR, 'models', model_name)\n",
    "model_path = os.path.join(model_dir, 'model.h5')\n",
    "metrics_path = os.path.join(model_dir, 'metrics.txt')\n",
    "config_path = os.path.join(model_dir, 'config.yml')\n",
    "\n",
    "os.makedirs(model_dir, exist_ok=True)"
   ]
  },
  {
   "cell_type": "markdown",
   "metadata": {},
   "source": [
    "# Resampling\n",
    "\n",
    "There are three labels: buy, hold and sell. The classes are imbalanced as there are many more hold samples compared to the other ones. In order to equalize the classes, one needs to either undersample the majority class, or oversample the minority classes."
   ]
  },
  {
   "cell_type": "code",
   "execution_count": 39,
   "metadata": {},
   "outputs": [],
   "source": [
    "def undersample(df, scaler, depth, window_size):\n",
    "    \n",
    "    slice_step = len(df) // np.sum(df['signal'] != 0) // 2 if np.sum(df['signal'] != 0) > 0 else 1\n",
    "    idx = df[df['signal'] != 0].index.to_list() + df[df['signal'] == 0][::slice_step].index.to_list()\n",
    "    idxnum = [df.index.get_loc(x) for x in idx if df.index.get_loc(x) > window_size]\n",
    "\n",
    "    # get samples\n",
    "    X1 = prepare(df, idxnum, depth, window_size)\n",
    "\n",
    "    # rescale\n",
    "    n_samples = X1.shape[0]\n",
    "    X1[:] = scaler.fit_transform(X1[:, :, :, 0].reshape((n_samples, -1))).reshape(\n",
    "        (n_samples, window_size, depth * 4, 1))\n",
    "\n",
    "    # encode labels\n",
    "    y = df['signal'].iloc[idxnum].to_numpy()\n",
    "    enc = OneHotEncoder(sparse=False)\n",
    "    y = enc.fit_transform(y.reshape(-1, 1))\n",
    "\n",
    "    # otherwise some classes are missing\n",
    "    assert y.shape[1] == 3, \"Some classes are missing.\"\n",
    "\n",
    "    # NB: shuffle=True has look-ahead bias!\n",
    "    X1_train, X1_test, y_train, y_test = train_test_split(X1, y, test_size=0.2, shuffle=True)\n",
    "\n",
    "    return X1_train, X1_test, y_train, y_test\n"
   ]
  },
  {
   "cell_type": "code",
   "execution_count": 40,
   "metadata": {},
   "outputs": [],
   "source": [
    "def oversample(df, scaler, depth, window_size):\n",
    "    \n",
    "    slice_step = 10\n",
    "    idx = df[df['signal'] != 0].index.to_list() + df[df['signal'] == 0][::slice_step].index.to_list()\n",
    "    idxnum = [df.index.get_loc(x) for x in idx if df.index.get_loc(x) > window_size]\n",
    "\n",
    "    # get samples\n",
    "    X1 = prepare(df, idxnum, depth, window_size)\n",
    "\n",
    "    # rescale\n",
    "    n_samples = X1.shape[0]\n",
    "    X1[:] = scaler.fit_transform(X1[:, :, :, 0].reshape((n_samples, -1))).reshape(\n",
    "        (n_samples, window_size, depth * 4, 1))\n",
    "\n",
    "    # encode labels\n",
    "    y = df['signal'].iloc[idxnum].to_numpy()\n",
    "    enc = OneHotEncoder(sparse=False)\n",
    "    y = enc.fit_transform(y.reshape(-1, 1))\n",
    "\n",
    "    # otherwise some classes are missing\n",
    "    assert y.shape[1] == 3, \"Some classes are missing.\"\n",
    "\n",
    "    ros = RandomOverSampler(random_state=42)\n",
    "\n",
    "    X1, y = ros.fit_resample(X1.reshape((n_samples, -1)), y)\n",
    "\n",
    "    n_samples = X1.shape[0]\n",
    "    X1 = X1.reshape((n_samples, window_size, 4 * depth, 1))\n",
    "\n",
    "    # NB: shuffle=True has look-ahead bias!\n",
    "    X1_train, X1_test, y_train, y_test = train_test_split(X1, y, test_size=0.2, shuffle=True)\n",
    "\n",
    "    return X1_train, X1_test, y_train, y_test"
   ]
  },
  {
   "cell_type": "markdown",
   "metadata": {},
   "source": [
    "# Training"
   ]
  },
  {
   "cell_type": "markdown",
   "metadata": {},
   "source": [
    "The data is sampled at 50ms. Each timestep has a UTC timestamp and 40 features: bid price and volume and ask price and volume, 10 levels deep.\n",
    "\n",
    "Labels are quantized as follows:\n",
    "* if the maximum ask price over the next 5 seconds - current ask price > threshold, label is +1\n",
    "* if the current bid price - minimum bid price over the next 5 seconds > threshold, label is -1\n",
    "* 0, otherwise\n",
    "\n",
    "So thus it's a classification, and not a regression task (which is more common AFAIK), but we could build a regression model too."
   ]
  },
  {
   "cell_type": "code",
   "execution_count": 44,
   "metadata": {},
   "outputs": [
    {
     "name": "stdout",
     "output_type": "stream",
     "text": [
      "Loading dataset _input/book-COINBASE-BTC-USD.csv.\n"
     ]
    }
   ],
   "source": [
    "# load dataset\n",
    "print(f'Loading dataset {DATA_PATH}.')\n",
    "df = pd.read_csv(DATA_PATH, index_col='timestamp', parse_dates=True).sort_index()\n",
    "\n",
    "# dedupe\n",
    "df = df[~df.index.duplicated(keep='first')]"
   ]
  },
  {
   "cell_type": "code",
   "execution_count": null,
   "metadata": {},
   "outputs": [],
   "source": [
    "# we use the fact that data is sampled at 50ms\n",
    "min_periods = config['model']['prediction_horizon'] * 1000 / 50\n",
    "\n",
    "print(f'Calculating labels.')\n",
    "\n",
    "# calculate indicators (use [::-1] to have rolling windows for successive, not trailing timesteps)\n",
    "df['p+'] = df['ap0'][::-1].rolling(td, min_periods=min_periods).max()[::-1] - df['ap0']\n",
    "df['p-'] = df['bp0'] - df['bp0'][::-1].rolling(td, min_periods=min_periods).min()[::-1]\n",
    "\n",
    "# remove na\n",
    "df = df[~df.isna().any(axis=1)]\n",
    "\n",
    "# calculate labels\n",
    "df['signal'] = (df['p+'] > config['model']['threshold']).astype(int) - (df['p-'] > config['model']['threshold']).astype(int)\n"
   ]
  },
  {
   "cell_type": "markdown",
   "metadata": {},
   "source": [
    "Classes are imbalanced, resampling to equalize them."
   ]
  },
  {
   "cell_type": "code",
   "execution_count": 60,
   "metadata": {},
   "outputs": [
    {
     "data": {
      "text/plain": [
       "(array([ 15187.,      0.,      0.,      0.,      0., 666145.,      0.,\n",
       "             0.,      0.,  17356.]),\n",
       " array([-1. , -0.8, -0.6, -0.4, -0.2,  0. ,  0.2,  0.4,  0.6,  0.8,  1. ]),\n",
       " <BarContainer object of 10 artists>)"
      ]
     },
     "execution_count": 60,
     "metadata": {},
     "output_type": "execute_result"
    },
    {
     "data": {
      "image/png": "[encoded data removed]",
      "text/plain": [
       "<Figure size 432x288 with 1 Axes>"
      ]
     },
     "metadata": {
      "needs_background": "light"
     },
     "output_type": "display_data"
    }
   ],
   "source": [
    "plt.hist(df['signal'])"
   ]
  },
  {
   "cell_type": "code",
   "execution_count": null,
   "metadata": {},
   "outputs": [],
   "source": [
    "# resample and split\n",
    "\n",
    "scaler = StandardScaler()\n",
    "\n",
    "assert config['model']['resampling'] in 'undersample', 'oversample'\n",
    "\n",
    "if config['model']['resampling'] == 'undersample':\n",
    "    X1_train, X1_test, y_train, y_test = undersample(df, scaler, config['model']['depth'], config['model']['window_size'])\n",
    "elif config['model']['resampling'] == 'oversample':\n",
    "    X1_train, X1_test, y_train, y_test = oversample(df, scaler, config['model']['depth'], config['model']['window_size'])\n",
    "    \n",
    "plt.hist(np.argmax(y_train, axis=1))\n"
   ]
  },
  {
   "cell_type": "code",
   "execution_count": 65,
   "metadata": {},
   "outputs": [
    {
     "data": {
      "text/plain": [
       "['_output/models/20220214_155018/scaler1.h5']"
      ]
     },
     "execution_count": 65,
     "metadata": {},
     "output_type": "execute_result"
    }
   ],
   "source": [
    "# dump scaler into file\n",
    "scaler_path = os.path.join(model_dir, 'scaler1.h5')\n",
    "joblib.dump(scaler, scaler_path)"
   ]
  },
  {
   "cell_type": "code",
   "execution_count": 70,
   "metadata": {},
   "outputs": [
    {
     "name": "stdout",
     "output_type": "stream",
     "text": [
      "Epoch 1/50\n",
      "1062/1062 - 7s - loss: 1.0265 - accuracy: 0.4717 - val_loss: 1.5475 - val_accuracy: 0.3554\n",
      "Epoch 2/50\n",
      "1062/1062 - 6s - loss: 0.9204 - accuracy: 0.5649 - val_loss: 1.0602 - val_accuracy: 0.4810\n",
      "Epoch 3/50\n",
      "1062/1062 - 6s - loss: 0.8080 - accuracy: 0.6393 - val_loss: 1.5799 - val_accuracy: 0.4152\n",
      "Epoch 4/50\n",
      "1062/1062 - 6s - loss: 0.7218 - accuracy: 0.6862 - val_loss: 1.1044 - val_accuracy: 0.5619\n",
      "Epoch 5/50\n",
      "1062/1062 - 5s - loss: 0.6629 - accuracy: 0.7158 - val_loss: 0.9589 - val_accuracy: 0.6294\n",
      "Epoch 6/50\n",
      "1062/1062 - 6s - loss: 0.6146 - accuracy: 0.7415 - val_loss: 1.0686 - val_accuracy: 0.5885\n",
      "Epoch 7/50\n",
      "1062/1062 - 6s - loss: 0.5793 - accuracy: 0.7599 - val_loss: 0.7728 - val_accuracy: 0.6753\n",
      "Epoch 8/50\n",
      "1062/1062 - 5s - loss: 0.5491 - accuracy: 0.7737 - val_loss: 0.6207 - val_accuracy: 0.7141\n",
      "Epoch 9/50\n",
      "1062/1062 - 6s - loss: 0.5275 - accuracy: 0.7840 - val_loss: 0.6210 - val_accuracy: 0.7420\n",
      "Epoch 10/50\n",
      "1062/1062 - 5s - loss: 0.5085 - accuracy: 0.7941 - val_loss: 1.0056 - val_accuracy: 0.5916\n",
      "Epoch 11/50\n",
      "1062/1062 - 5s - loss: 0.4925 - accuracy: 0.8001 - val_loss: 0.4760 - val_accuracy: 0.8005\n",
      "Epoch 12/50\n",
      "1062/1062 - 5s - loss: 0.4777 - accuracy: 0.8084 - val_loss: 0.5224 - val_accuracy: 0.7834\n",
      "Epoch 13/50\n",
      "1062/1062 - 6s - loss: 0.4638 - accuracy: 0.8139 - val_loss: 0.4817 - val_accuracy: 0.8028\n",
      "Epoch 14/50\n",
      "1062/1062 - 6s - loss: 0.4563 - accuracy: 0.8194 - val_loss: 0.5982 - val_accuracy: 0.7399\n",
      "Epoch 15/50\n",
      "1062/1062 - 5s - loss: 0.4444 - accuracy: 0.8243 - val_loss: 0.4750 - val_accuracy: 0.8020\n",
      "Epoch 16/50\n",
      "1062/1062 - 6s - loss: 0.4343 - accuracy: 0.8295 - val_loss: 0.5586 - val_accuracy: 0.7815\n",
      "Epoch 17/50\n",
      "1062/1062 - 6s - loss: 0.4220 - accuracy: 0.8343 - val_loss: 0.5785 - val_accuracy: 0.7631\n",
      "Epoch 18/50\n",
      "1062/1062 - 6s - loss: 0.4179 - accuracy: 0.8381 - val_loss: 0.5822 - val_accuracy: 0.7566\n",
      "Epoch 19/50\n",
      "1062/1062 - 5s - loss: 0.4072 - accuracy: 0.8417 - val_loss: 0.4270 - val_accuracy: 0.8241\n",
      "Epoch 20/50\n",
      "1062/1062 - 5s - loss: 0.4000 - accuracy: 0.8455 - val_loss: 0.5464 - val_accuracy: 0.7825\n",
      "Epoch 21/50\n",
      "1062/1062 - 6s - loss: 0.3938 - accuracy: 0.8481 - val_loss: 0.5061 - val_accuracy: 0.7981\n",
      "Epoch 22/50\n",
      "1062/1062 - 6s - loss: 0.3904 - accuracy: 0.8502 - val_loss: 0.4264 - val_accuracy: 0.8260\n",
      "Epoch 23/50\n",
      "1062/1062 - 6s - loss: 0.3876 - accuracy: 0.8518 - val_loss: 0.4788 - val_accuracy: 0.7941\n",
      "Epoch 24/50\n",
      "1062/1062 - 6s - loss: 0.3780 - accuracy: 0.8558 - val_loss: 0.4214 - val_accuracy: 0.8315\n",
      "Epoch 25/50\n",
      "1062/1062 - 5s - loss: 0.3801 - accuracy: 0.8560 - val_loss: 0.4497 - val_accuracy: 0.8120\n",
      "Epoch 26/50\n",
      "1062/1062 - 5s - loss: 0.3704 - accuracy: 0.8586 - val_loss: 0.4272 - val_accuracy: 0.8330\n",
      "Epoch 27/50\n",
      "1062/1062 - 5s - loss: 0.3678 - accuracy: 0.8608 - val_loss: 0.4347 - val_accuracy: 0.8168\n",
      "Epoch 28/50\n",
      "1062/1062 - 6s - loss: 0.3630 - accuracy: 0.8622 - val_loss: 0.4035 - val_accuracy: 0.8375\n",
      "Epoch 29/50\n",
      "1062/1062 - 6s - loss: 0.3578 - accuracy: 0.8652 - val_loss: 0.3660 - val_accuracy: 0.8581\n",
      "Epoch 30/50\n",
      "1062/1062 - 6s - loss: 0.3571 - accuracy: 0.8652 - val_loss: 0.4740 - val_accuracy: 0.8064\n",
      "Epoch 31/50\n",
      "1062/1062 - 5s - loss: 0.3575 - accuracy: 0.8650 - val_loss: 0.4574 - val_accuracy: 0.8147\n",
      "Epoch 32/50\n",
      "1062/1062 - 6s - loss: 0.3523 - accuracy: 0.8668 - val_loss: 0.4103 - val_accuracy: 0.8367\n",
      "Epoch 33/50\n",
      "1062/1062 - 5s - loss: 0.3457 - accuracy: 0.8708 - val_loss: 0.4043 - val_accuracy: 0.8434\n",
      "Epoch 34/50\n",
      "1062/1062 - 5s - loss: 0.3471 - accuracy: 0.8693 - val_loss: 0.3896 - val_accuracy: 0.8492\n",
      "Epoch 35/50\n",
      "1062/1062 - 6s - loss: 0.3450 - accuracy: 0.8701 - val_loss: 0.4516 - val_accuracy: 0.8229\n",
      "Epoch 36/50\n",
      "1062/1062 - 6s - loss: 0.3411 - accuracy: 0.8714 - val_loss: 0.4107 - val_accuracy: 0.8391\n",
      "Epoch 37/50\n",
      "1062/1062 - 5s - loss: 0.3385 - accuracy: 0.8732 - val_loss: 0.3919 - val_accuracy: 0.8400\n",
      "Epoch 38/50\n",
      "1062/1062 - 6s - loss: 0.3363 - accuracy: 0.8750 - val_loss: 0.3635 - val_accuracy: 0.8639\n",
      "Epoch 39/50\n",
      "1062/1062 - 6s - loss: 0.3338 - accuracy: 0.8753 - val_loss: 0.3684 - val_accuracy: 0.8494\n",
      "Epoch 40/50\n",
      "1062/1062 - 6s - loss: 0.3313 - accuracy: 0.8769 - val_loss: 0.3835 - val_accuracy: 0.8467\n",
      "Epoch 41/50\n",
      "1062/1062 - 6s - loss: 0.3280 - accuracy: 0.8788 - val_loss: 0.4108 - val_accuracy: 0.8428\n",
      "Epoch 42/50\n",
      "1062/1062 - 6s - loss: 0.3277 - accuracy: 0.8792 - val_loss: 0.3848 - val_accuracy: 0.8567\n",
      "Epoch 43/50\n",
      "1062/1062 - 6s - loss: 0.3266 - accuracy: 0.8789 - val_loss: 0.3871 - val_accuracy: 0.8457\n",
      "Epoch 44/50\n",
      "1062/1062 - 6s - loss: 0.3226 - accuracy: 0.8799 - val_loss: 0.3458 - val_accuracy: 0.8675\n",
      "Epoch 45/50\n",
      "1062/1062 - 6s - loss: 0.3255 - accuracy: 0.8786 - val_loss: 0.3534 - val_accuracy: 0.8619\n",
      "Epoch 46/50\n",
      "1062/1062 - 6s - loss: 0.3174 - accuracy: 0.8825 - val_loss: 0.6834 - val_accuracy: 0.7519\n",
      "Epoch 47/50\n",
      "1062/1062 - 6s - loss: 0.3198 - accuracy: 0.8822 - val_loss: 0.5024 - val_accuracy: 0.8040\n",
      "Epoch 48/50\n",
      "1062/1062 - 6s - loss: 0.3200 - accuracy: 0.8815 - val_loss: 0.5110 - val_accuracy: 0.8090\n",
      "Epoch 49/50\n",
      "1062/1062 - 6s - loss: 0.3174 - accuracy: 0.8824 - val_loss: 0.4027 - val_accuracy: 0.8464\n",
      "Epoch 50/50\n",
      "1062/1062 - 5s - loss: 0.3156 - accuracy: 0.8825 - val_loss: 0.4173 - val_accuracy: 0.8415\n"
     ]
    }
   ],
   "source": [
    "# build and train model\n",
    "\n",
    "model = build_model(window_size=config['model']['window_size'], depth=config['model']['depth'])\n",
    "cp_callback = ModelCheckpoint(filepath=model_path, monitor='val_accuracy', save_weights_only=True,\n",
    "                              save_best_only=True)\n",
    "\n",
    "history = model.fit(X1_train, y_train,\n",
    "                    epochs=config['training']['n_epochs'],\n",
    "                    batch_size=config['training']['batch_size'],\n",
    "                    validation_split=0.15, callbacks=[cp_callback],\n",
    "                    verbose=2)"
   ]
  },
  {
   "cell_type": "code",
   "execution_count": 72,
   "metadata": {},
   "outputs": [],
   "source": [
    "# save history\n",
    "history_path = os.path.join(model_dir, 'history.csv')\n",
    "history_df = pd.DataFrame(history.history)\n",
    "history_df.to_csv(history_path, index=False)"
   ]
  },
  {
   "cell_type": "code",
   "execution_count": 73,
   "metadata": {},
   "outputs": [
    {
     "name": "stdout",
     "output_type": "stream",
     "text": [
      "loss                 0.3471\n",
      "accuracy             0.8669\n",
      "\n",
      "r2                     0.79\n",
      "precision            0.9060  0.8276  0.8640\n",
      "recall               0.9128  0.7675  0.9198\n",
      "fscore               0.9094  0.7964  0.8910\n",
      "support               13298   13273   13398\n",
      "\n",
      "confusion matrix    \n",
      "  12139    1076      83\n",
      "   1230   10187    1856\n",
      "     29    1046   12323\n",
      "\n",
      "Metrics written to _output/models/20220214_155018/metrics.txt.\n",
      "Config copied to _output/models/20220214_155018/config.yml.\n"
     ]
    }
   ],
   "source": [
    "# load and evaluate the best model\n",
    "\n",
    "model.load_weights(model_path)\n",
    "\n",
    "loss, accuracy = model.evaluate(X1_test, y_test, verbose=0)\n",
    "\n",
    "y_pred_num = np.argmax(model.predict(X1_test), axis=1)\n",
    "y_test_num = np.argmax(y_test, axis=1)\n",
    "\n",
    "metrics = get_metrics(y_test_num, y_pred_num)\n",
    "\n",
    "output = (\n",
    "    f\"{'loss':20}{loss:7.4f}\\n\"\n",
    "    f\"{'accuracy':20}{accuracy:7.4f}\\n\\n\"\n",
    "    f\"{metrics}\"\n",
    ")\n",
    "\n",
    "print(output)\n",
    "\n",
    "f = open(metrics_path, 'w')\n",
    "f.write(output)\n",
    "f.close()\n",
    "print(f\"Metrics written to {metrics_path}.\")\n",
    "\n",
    "yaml.dump(config, open(config_path, 'w'))\n",
    "print(f\"Config copied to {config_path}.\")\n"
   ]
  }
 ],
 "metadata": {
  "kernelspec": {
   "display_name": "Python 3",
   "language": "python",
   "name": "python3"
  },
  "language_info": {
   "codemirror_mode": {
    "name": "ipython",
    "version": 3
   },
   "file_extension": ".py",
   "mimetype": "text/x-python",
   "name": "python",
   "nbconvert_exporter": "python",
   "pygments_lexer": "ipython3",
   "version": "3.6.15"
  }
 },
 "nbformat": 4,
 "nbformat_minor": 5
}
