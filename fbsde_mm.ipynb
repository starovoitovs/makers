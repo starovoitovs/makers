{
 "cells": [
  {
   "cell_type": "markdown",
   "id": "cc06f6d1",
   "metadata": {},
   "source": [
    "# FBSDE\n",
    "\n",
    "Ji, Shaolin, Shige Peng, Ying Peng, and Xichuan Zhang. “Three Algorithms for Solving High-Dimensional Fully-Coupled FBSDEs through Deep Learning.” ArXiv:1907.05327 [Cs, Math], February 2, 2020. http://arxiv.org/abs/1907.05327."
   ]
  },
  {
   "cell_type": "code",
   "execution_count": 1,
   "id": "2a52e06e",
   "metadata": {},
   "outputs": [],
   "source": [
    "import numpy as np\n",
    "import tensorflow as tf\n",
    "from keras.layers import Input, Dense, Lambda, Reshape, concatenate, Layer\n",
    "from keras import Model, initializers\n",
    "from keras.callbacks import ModelCheckpoint\n",
    "from keras.metrics import mean_squared_error\n",
    "import matplotlib.pyplot as plt"
   ]
  },
  {
   "cell_type": "code",
   "execution_count": 2,
   "id": "ea6fecbe",
   "metadata": {},
   "outputs": [
    {
     "name": "stdout",
     "output_type": "stream",
     "text": [
      "Num GPUs Available:  3\n"
     ]
    }
   ],
   "source": [
    "print(\"Num GPUs Available: \", len(tf.config.list_physical_devices(\"GPU\")))"
   ]
  },
  {
   "cell_type": "code",
   "execution_count": 14,
   "id": "dd71b294",
   "metadata": {},
   "outputs": [],
   "source": [
    "# numerical parameters\n",
    "n_paths = 2 ** 18\n",
    "n_timesteps = 4\n",
    "n_dimensions = 4\n",
    "n_diffusion_factors = 2\n",
    "n_jump_factors = 2\n",
    "T = 1.\n",
    "dt = T / n_timesteps\n",
    "batch_size = 128\n",
    "epochs = 1000"
   ]
  },
  {
   "cell_type": "code",
   "execution_count": 33,
   "id": "02c1be8d-1b2f-42b3-a12b-57e78ab28782",
   "metadata": {},
   "outputs": [],
   "source": [
    "# model parameters\n",
    "eta = 1.\n",
    "lp = 1.\n",
    "lm = 1.\n",
    "k = 1.\n",
    "sigma = 1.\n",
    "zeta = 1.\n",
    "phi = 1.\n",
    "psi = 1.\n",
    "epsilon = 5e-3"
   ]
  },
  {
   "cell_type": "markdown",
   "id": "37f1815e-1461-4872-8c35-408cf1ad7d89",
   "metadata": {},
   "source": [
    "# Initial value layer"
   ]
  },
  {
   "cell_type": "code",
   "execution_count": 34,
   "id": "ffbd26b8-560e-44b2-bad6-9ecab7d27ba8",
   "metadata": {},
   "outputs": [],
   "source": [
    "class InitialValue(Layer):\n",
    "    \n",
    "    def __init__(self, y0, **kwargs):\n",
    "        super().__init__(**kwargs)\n",
    "        self.y0 = y0\n",
    "    \n",
    "    def call(self, inputs):\n",
    "        return self.y0"
   ]
  },
  {
   "cell_type": "markdown",
   "id": "474a9bb2-fa76-4340-87d5-3f8edff51e58",
   "metadata": {},
   "source": [
    "# Coefficients"
   ]
  },
  {
   "cell_type": "code",
   "execution_count": 35,
   "id": "d4ebf547",
   "metadata": {},
   "outputs": [],
   "source": [
    "def b(t, x, y, z, r):\n",
    "    \n",
    "    ad = y[2] / y[3] + x[0]\n",
    "    dp = tf.maximum(0., 1./k + ad)\n",
    "    dm = tf.maximum(0., 1./k - ad)\n",
    "    \n",
    "    return [\n",
    "        x[1],\n",
    "        -eta * x[0],\n",
    "        lp * tf.exp(-k * dp) - lm * tf.exp(-k * dm),\n",
    "        lp * (x[0] + dp) * tf.exp(-k * dp) - lm * (x[0] - dp) * tf.exp(-k * dm),\n",
    "    ]\n",
    "\n",
    "def s(t, x, y, z, r):\n",
    "    return [[sigma, 0], [0, zeta], [0, 0], [0, 0]]\n",
    "\n",
    "# - dH_dx\n",
    "def f(t, x, y, z, r):\n",
    "    \n",
    "    ad = y[2] / y[3] + x[0]\n",
    "    dp = tf.maximum(0., 1./k + ad)\n",
    "    dm = tf.maximum(0., 1./k - ad)\n",
    "\n",
    "    return [\n",
    "        -(y[3] * lp * tf.exp(-k * dp) - y[3] * lm * tf.exp(-k * dm)),\n",
    "        -(y[0] - eta * y[1]),\n",
    "        -(-2. * phi * x[2]),\n",
    "        -(0.)\n",
    "    ]\n",
    "\n",
    "def v(t, x, y, z, r):\n",
    "    return [[0, 0], [epsilon, -epsilon], [0, 0], [0, 0]]\n",
    "\n",
    "# dg_dx\n",
    "def g(x):\n",
    "    return [x[2], 0., x[0] - 2 * psi * x[2], 1.]"
   ]
  },
  {
   "cell_type": "code",
   "execution_count": 36,
   "id": "35de6b6c-540e-470c-957e-f435b197d170",
   "metadata": {},
   "outputs": [],
   "source": [
    "def dX(i, x, y, z, r, dW, dN):\n",
    "    \n",
    "    t = i * dt\n",
    "    \n",
    "    def drift(arg):\n",
    "        x, y, z, r = arg\n",
    "        return tf.math.multiply(b(t, x, y, z, r), dt)\n",
    "    a0 = tf.vectorized_map(drift, (x, y, z, r))\n",
    "        \n",
    "    def noise(arg):\n",
    "        x, y, z, r, dW = arg\n",
    "        return tf.tensordot(s(t, x, y, z ,r), dW[i], [[1], [0]])\n",
    "    a1 = tf.vectorized_map(noise, (x, y, z, r, dW))\n",
    "\n",
    "    def jump(arg):\n",
    "        x, y, z, r, dN = arg\n",
    "        return tf.tensordot(v(t, x, y, z ,r), dN[i], [[1], [0]])\n",
    "    a2 = tf.vectorized_map(jump, (x, y, z, r, dN))\n",
    "    \n",
    "    return a0 + a1 + a2\n",
    "\n",
    "def dY(i, x, y, z, r, dW, dN):\n",
    "    \n",
    "    t = i * dt\n",
    "\n",
    "    def drift(arg):\n",
    "        x, y, z, r = arg\n",
    "        return tf.math.multiply(f(t, x, y, z, r), dt)\n",
    "    a0 = tf.vectorized_map(drift, (x, y, z, r))\n",
    "\n",
    "    def noise(arg):\n",
    "        x, y, z, r, dW = arg\n",
    "        return tf.tensordot(z, dW[i], [[1], [0]])\n",
    "    a1 = tf.vectorized_map(noise, (x, y, z, r, dW))\n",
    "    \n",
    "    def jump(arg):\n",
    "        x, y, z, r, dN = arg\n",
    "        return tf.tensordot(r, dN[i], [[1], [0]])\n",
    "    a2 = tf.vectorized_map(jump, (x, y, z, r, dN))\n",
    "    \n",
    "    return a0 + a1 + a2"
   ]
  },
  {
   "cell_type": "markdown",
   "id": "8712e6b3-b6ac-4607-b7a1-1d804d531f69",
   "metadata": {},
   "source": [
    "# Model"
   ]
  },
  {
   "cell_type": "code",
   "execution_count": 37,
   "id": "ce1f9427-7dbe-479c-8008-a9f239bac9c5",
   "metadata": {
    "tags": []
   },
   "outputs": [
    {
     "name": "stdout",
     "output_type": "stream",
     "text": [
      "WARNING:tensorflow:AutoGraph could not transform <function hx at 0x7fb4e4447ee0> and will run it as-is.\n",
      "Please report this to the TensorFlow team. When filing the bug, set the verbosity to 10 (on Linux, `export AUTOGRAPH_VERBOSITY=10`) and attach the full output.\n",
      "Cause: module 'gast' has no attribute 'Index'\n",
      "To silence this warning, decorate the function with @tf.autograph.experimental.do_not_convert\n",
      "WARNING: AutoGraph could not transform <function hx at 0x7fb4e4447ee0> and will run it as-is.\n",
      "Please report this to the TensorFlow team. When filing the bug, set the verbosity to 10 (on Linux, `export AUTOGRAPH_VERBOSITY=10`) and attach the full output.\n",
      "Cause: module 'gast' has no attribute 'Index'\n",
      "To silence this warning, decorate the function with @tf.autograph.experimental.do_not_convert\n",
      "WARNING:tensorflow:AutoGraph could not transform <function hy at 0x7fb5510bcf70> and will run it as-is.\n",
      "Please report this to the TensorFlow team. When filing the bug, set the verbosity to 10 (on Linux, `export AUTOGRAPH_VERBOSITY=10`) and attach the full output.\n",
      "Cause: module 'gast' has no attribute 'Index'\n",
      "To silence this warning, decorate the function with @tf.autograph.experimental.do_not_convert\n",
      "WARNING: AutoGraph could not transform <function hy at 0x7fb5510bcf70> and will run it as-is.\n",
      "Please report this to the TensorFlow team. When filing the bug, set the verbosity to 10 (on Linux, `export AUTOGRAPH_VERBOSITY=10`) and attach the full output.\n",
      "Cause: module 'gast' has no attribute 'Index'\n",
      "To silence this warning, decorate the function with @tf.autograph.experimental.do_not_convert\n"
     ]
    }
   ],
   "source": [
    "paths = []\n",
    "\n",
    "inputs_dW = Input(shape=(n_timesteps, n_diffusion_factors))\n",
    "inputs_dN = Input(shape=(n_timesteps, n_jump_factors))\n",
    "\n",
    "x0 = tf.Variable([[0., 0., 0., 0.]], trainable=False)\n",
    "y0 = tf.Variable([[5., 5., 5., 5.]], trainable=True)\n",
    "\n",
    "x = InitialValue(x0, name='x_0')(inputs_dW)\n",
    "y = InitialValue(y0, name='y_0')(inputs_dW)\n",
    "\n",
    "z = concatenate([x, y])\n",
    "z = Dense(10, activation='relu', kernel_initializer=initializers.RandomNormal(stddev=1e-1), name='z1_0')(z)\n",
    "z = Dense(n_dimensions * n_diffusion_factors, activation='relu', kernel_initializer=initializers.RandomNormal(stddev=1e-1), name='z2_0')(z)\n",
    "z = Reshape((n_dimensions, n_diffusion_factors), name='zr_0')(z)\n",
    "\n",
    "r = concatenate([x, y])\n",
    "r = Dense(10, activation='relu', kernel_initializer=initializers.RandomNormal(stddev=1e-1), name='r1_0')(r)\n",
    "r = Dense(n_dimensions * n_jump_factors, activation='relu', kernel_initializer=initializers.RandomNormal(stddev=1e-1), name='r2_0')(r)\n",
    "r = Reshape((n_dimensions, n_jump_factors), name='rr_0')(r)\n",
    "\n",
    "paths += [[x, y, z, r]]\n",
    "\n",
    "@tf.function\n",
    "def hx(i, r):\n",
    "    return r[0] + dX(i, *r)\n",
    "\n",
    "@tf.function\n",
    "def hy(i, r):\n",
    "    return r[1] + dY(i, *r)\n",
    "\n",
    "for i in range(n_timesteps):\n",
    "    \n",
    "    x, y = (\n",
    "        Lambda(lambda r: hx(i, r), name=f'x_{i+1}')([x, y, z, r, inputs_dW, inputs_dN]),\n",
    "        Lambda(lambda r: hy(i, r), name=f'y_{i+1}')([x, y, z, r, inputs_dW, inputs_dN]),\n",
    "    )\n",
    "    \n",
    "    # we don't train z for the last time step; keep for consistency\n",
    "    z = concatenate([x, y])\n",
    "    z = Dense(10, activation='relu', name=f'z1_{i+1}')(z)\n",
    "    z = Dense(n_dimensions * n_diffusion_factors, activation='relu', name=f'z2_{i+1}')(z)\n",
    "    z = Reshape((n_dimensions, n_diffusion_factors), name=f'zr_{i+1}')(z)\n",
    "    \n",
    "    # we don't train r for the last time step; keep for consistency\n",
    "    r = concatenate([x, y])\n",
    "    r = Dense(10, activation='relu', kernel_initializer=initializers.RandomNormal(stddev=1e-1), name=f'r1_{i+1}')(r)\n",
    "    r = Dense(n_dimensions * n_jump_factors, activation='relu', kernel_initializer=initializers.RandomNormal(stddev=1e-1), name=f'r2_{i+1}')(r)\n",
    "    r = Reshape((n_dimensions, n_jump_factors), name=f'rr_{i+1}')(r)\n",
    "\n",
    "    paths += [[x, y, z, r]]\n",
    "    \n",
    "outputs_loss = Lambda(lambda r: r[1] - tf.transpose(tf.vectorized_map(g, r[0])))([x, y])\n",
    "outputs_paths = tf.stack(\n",
    "    [tf.stack([p[0] for p in paths[1:]], axis=1), tf.stack([p[1] for p in paths[1:]], axis=1)] + \n",
    "    [tf.stack([p[2][:, :, i] for p in paths[1:]], axis=1) for i in range(n_diffusion_factors)] +\n",
    "    [tf.stack([p[3][:, :, i] for p in paths[1:]], axis=1) for i in range(n_jump_factors)], axis=2)\n",
    "\n",
    "model_loss = Model([inputs_dW, inputs_dN], outputs_loss)\n",
    "model_loss.compile(loss='mse', optimizer='adam')\n",
    "\n",
    "# (n_sample, n_timestep, x/y/z_k, n_dimension)\n",
    "# skips the first time step\n",
    "model_paths = Model([inputs_dW, inputs_dN], outputs_paths)"
   ]
  },
  {
   "cell_type": "code",
   "execution_count": 38,
   "id": "3eac4263-05a5-4a19-8f1d-d9c0a8b94c4a",
   "metadata": {},
   "outputs": [
    {
     "name": "stdout",
     "output_type": "stream",
     "text": [
      "Model: \"model_4\"\n",
      "__________________________________________________________________________________________________\n",
      "Layer (type)                    Output Shape         Param #     Connected to                     \n",
      "==================================================================================================\n",
      "input_5 (InputLayer)            [(None, 4, 2)]       0                                            \n",
      "__________________________________________________________________________________________________\n",
      "x_0 (InitialValue)              (1, 4)               4           input_5[0][0]                    \n",
      "__________________________________________________________________________________________________\n",
      "y_0 (InitialValue)              (1, 4)               4           input_5[0][0]                    \n",
      "__________________________________________________________________________________________________\n",
      "concatenate_20 (Concatenate)    (1, 8)               0           x_0[0][0]                        \n",
      "                                                                 y_0[0][0]                        \n",
      "__________________________________________________________________________________________________\n",
      "concatenate_21 (Concatenate)    (1, 8)               0           x_0[0][0]                        \n",
      "                                                                 y_0[0][0]                        \n",
      "__________________________________________________________________________________________________\n",
      "z1_0 (Dense)                    (1, 10)              90          concatenate_20[0][0]             \n",
      "__________________________________________________________________________________________________\n",
      "r1_0 (Dense)                    (1, 10)              90          concatenate_21[0][0]             \n",
      "__________________________________________________________________________________________________\n",
      "z2_0 (Dense)                    (1, 8)               88          z1_0[0][0]                       \n",
      "__________________________________________________________________________________________________\n",
      "r2_0 (Dense)                    (1, 8)               88          r1_0[0][0]                       \n",
      "__________________________________________________________________________________________________\n",
      "zr_0 (Reshape)                  (1, 4, 2)            0           z2_0[0][0]                       \n",
      "__________________________________________________________________________________________________\n",
      "rr_0 (Reshape)                  (1, 4, 2)            0           r2_0[0][0]                       \n",
      "__________________________________________________________________________________________________\n",
      "input_6 (InputLayer)            [(None, 4, 2)]       0                                            \n",
      "__________________________________________________________________________________________________\n",
      "x_1 (Lambda)                    (None, 4)            0           x_0[0][0]                        \n",
      "                                                                 y_0[0][0]                        \n",
      "                                                                 zr_0[0][0]                       \n",
      "                                                                 rr_0[0][0]                       \n",
      "                                                                 input_5[0][0]                    \n",
      "                                                                 input_6[0][0]                    \n",
      "__________________________________________________________________________________________________\n",
      "y_1 (Lambda)                    (None, 4)            0           x_0[0][0]                        \n",
      "                                                                 y_0[0][0]                        \n",
      "                                                                 zr_0[0][0]                       \n",
      "                                                                 rr_0[0][0]                       \n",
      "                                                                 input_5[0][0]                    \n",
      "                                                                 input_6[0][0]                    \n",
      "__________________________________________________________________________________________________\n",
      "concatenate_22 (Concatenate)    (None, 8)            0           x_1[0][0]                        \n",
      "                                                                 y_1[0][0]                        \n",
      "__________________________________________________________________________________________________\n",
      "concatenate_23 (Concatenate)    (None, 8)            0           x_1[0][0]                        \n",
      "                                                                 y_1[0][0]                        \n",
      "__________________________________________________________________________________________________\n",
      "z1_1 (Dense)                    (None, 10)           90          concatenate_22[0][0]             \n",
      "__________________________________________________________________________________________________\n",
      "r1_1 (Dense)                    (None, 10)           90          concatenate_23[0][0]             \n",
      "__________________________________________________________________________________________________\n",
      "z2_1 (Dense)                    (None, 8)            88          z1_1[0][0]                       \n",
      "__________________________________________________________________________________________________\n",
      "r2_1 (Dense)                    (None, 8)            88          r1_1[0][0]                       \n",
      "__________________________________________________________________________________________________\n",
      "zr_1 (Reshape)                  (None, 4, 2)         0           z2_1[0][0]                       \n",
      "__________________________________________________________________________________________________\n",
      "rr_1 (Reshape)                  (None, 4, 2)         0           r2_1[0][0]                       \n",
      "__________________________________________________________________________________________________\n",
      "x_2 (Lambda)                    (None, 4)            0           x_1[0][0]                        \n",
      "                                                                 y_1[0][0]                        \n",
      "                                                                 zr_1[0][0]                       \n",
      "                                                                 rr_1[0][0]                       \n",
      "                                                                 input_5[0][0]                    \n",
      "                                                                 input_6[0][0]                    \n",
      "__________________________________________________________________________________________________\n",
      "y_2 (Lambda)                    (None, 4)            0           x_1[0][0]                        \n",
      "                                                                 y_1[0][0]                        \n",
      "                                                                 zr_1[0][0]                       \n",
      "                                                                 rr_1[0][0]                       \n",
      "                                                                 input_5[0][0]                    \n",
      "                                                                 input_6[0][0]                    \n",
      "__________________________________________________________________________________________________\n",
      "concatenate_24 (Concatenate)    (None, 8)            0           x_2[0][0]                        \n",
      "                                                                 y_2[0][0]                        \n",
      "__________________________________________________________________________________________________\n",
      "concatenate_25 (Concatenate)    (None, 8)            0           x_2[0][0]                        \n",
      "                                                                 y_2[0][0]                        \n",
      "__________________________________________________________________________________________________\n",
      "z1_2 (Dense)                    (None, 10)           90          concatenate_24[0][0]             \n",
      "__________________________________________________________________________________________________\n",
      "r1_2 (Dense)                    (None, 10)           90          concatenate_25[0][0]             \n",
      "__________________________________________________________________________________________________\n",
      "z2_2 (Dense)                    (None, 8)            88          z1_2[0][0]                       \n",
      "__________________________________________________________________________________________________\n",
      "r2_2 (Dense)                    (None, 8)            88          r1_2[0][0]                       \n",
      "__________________________________________________________________________________________________\n",
      "zr_2 (Reshape)                  (None, 4, 2)         0           z2_2[0][0]                       \n",
      "__________________________________________________________________________________________________\n",
      "rr_2 (Reshape)                  (None, 4, 2)         0           r2_2[0][0]                       \n",
      "__________________________________________________________________________________________________\n",
      "x_3 (Lambda)                    (None, 4)            0           x_2[0][0]                        \n",
      "                                                                 y_2[0][0]                        \n",
      "                                                                 zr_2[0][0]                       \n",
      "                                                                 rr_2[0][0]                       \n",
      "                                                                 input_5[0][0]                    \n",
      "                                                                 input_6[0][0]                    \n",
      "__________________________________________________________________________________________________\n",
      "y_3 (Lambda)                    (None, 4)            0           x_2[0][0]                        \n",
      "                                                                 y_2[0][0]                        \n",
      "                                                                 zr_2[0][0]                       \n",
      "                                                                 rr_2[0][0]                       \n",
      "                                                                 input_5[0][0]                    \n",
      "                                                                 input_6[0][0]                    \n",
      "__________________________________________________________________________________________________\n",
      "concatenate_26 (Concatenate)    (None, 8)            0           x_3[0][0]                        \n",
      "                                                                 y_3[0][0]                        \n",
      "__________________________________________________________________________________________________\n",
      "concatenate_27 (Concatenate)    (None, 8)            0           x_3[0][0]                        \n",
      "                                                                 y_3[0][0]                        \n",
      "__________________________________________________________________________________________________\n",
      "z1_3 (Dense)                    (None, 10)           90          concatenate_26[0][0]             \n",
      "__________________________________________________________________________________________________\n",
      "r1_3 (Dense)                    (None, 10)           90          concatenate_27[0][0]             \n",
      "__________________________________________________________________________________________________\n",
      "z2_3 (Dense)                    (None, 8)            88          z1_3[0][0]                       \n",
      "__________________________________________________________________________________________________\n",
      "r2_3 (Dense)                    (None, 8)            88          r1_3[0][0]                       \n",
      "__________________________________________________________________________________________________\n",
      "zr_3 (Reshape)                  (None, 4, 2)         0           z2_3[0][0]                       \n",
      "__________________________________________________________________________________________________\n",
      "rr_3 (Reshape)                  (None, 4, 2)         0           r2_3[0][0]                       \n",
      "__________________________________________________________________________________________________\n",
      "x_4 (Lambda)                    (None, 4)            0           x_3[0][0]                        \n",
      "                                                                 y_3[0][0]                        \n",
      "                                                                 zr_3[0][0]                       \n",
      "                                                                 rr_3[0][0]                       \n",
      "                                                                 input_5[0][0]                    \n",
      "                                                                 input_6[0][0]                    \n",
      "__________________________________________________________________________________________________\n",
      "y_4 (Lambda)                    (None, 4)            0           x_3[0][0]                        \n",
      "                                                                 y_3[0][0]                        \n",
      "                                                                 zr_3[0][0]                       \n",
      "                                                                 rr_3[0][0]                       \n",
      "                                                                 input_5[0][0]                    \n",
      "                                                                 input_6[0][0]                    \n",
      "__________________________________________________________________________________________________\n",
      "lambda_2 (Lambda)               (None, 4)            0           x_4[0][0]                        \n",
      "                                                                 y_4[0][0]                        \n",
      "==================================================================================================\n",
      "Total params: 1,432\n",
      "Trainable params: 1,428\n",
      "Non-trainable params: 4\n",
      "__________________________________________________________________________________________________\n"
     ]
    }
   ],
   "source": [
    "model_loss.summary()"
   ]
  },
  {
   "cell_type": "markdown",
   "id": "fa8bfc6d-16fa-455c-b63e-be6d6b1e6a0d",
   "metadata": {},
   "source": [
    "# Training"
   ]
  },
  {
   "cell_type": "code",
   "execution_count": 39,
   "id": "56a90e15-3142-4b85-9946-b92135d1d07c",
   "metadata": {},
   "outputs": [],
   "source": [
    "dW = tf.sqrt(dt) * tf.random.normal((n_paths, n_timesteps, n_diffusion_factors))\n",
    "dN = tf.random.poisson((n_paths, n_timesteps), [dt * lp, dt * lm])\n",
    "target = tf.zeros((n_paths, n_dimensions))"
   ]
  },
  {
   "cell_type": "code",
   "execution_count": 40,
   "id": "a03915f5-7578-42d4-a664-e90869d936c6",
   "metadata": {
    "tags": []
   },
   "outputs": [
    {
     "name": "stdout",
     "output_type": "stream",
     "text": [
      "WARNING:tensorflow:\n",
      "The following Variables were used a Lambda layer's call (x_1), but\n",
      "are not present in its tracked objects:\n",
      "  <tf.Variable 'Variable:0' shape=(1, 4) dtype=float32, numpy=array([[        5,         5,         5,         5]], dtype=float32)>\n",
      "It is possible that this is intended behavior, but it is more likely\n",
      "an omission. This is a strong indication that this layer should be\n",
      "formulated as a subclassed Layer rather than a Lambda layer.\n",
      "WARNING:tensorflow:\n",
      "The following Variables were used a Lambda layer's call (y_1), but\n",
      "are not present in its tracked objects:\n",
      "  <tf.Variable 'Variable:0' shape=(1, 4) dtype=float32, numpy=array([[        5,         5,         5,         5]], dtype=float32)>\n",
      "It is possible that this is intended behavior, but it is more likely\n",
      "an omission. This is a strong indication that this layer should be\n",
      "formulated as a subclassed Layer rather than a Lambda layer.\n"
     ]
    },
    {
     "data": {
      "text/plain": [
       "<tf.Tensor: shape=(8,), dtype=float32, numpy=array([        0, 1.435e+04, 6.563e+04,        29,         0,       838,  5.68e+04, 3.544e+04], dtype=float32)>"
      ]
     },
     "execution_count": 40,
     "metadata": {},
     "output_type": "execute_result"
    }
   ],
   "source": [
    "# check for exploding gradients before training\n",
    "\n",
    "with tf.GradientTape() as tape:\n",
    "    loss = model_loss([dW, dN])\n",
    "\n",
    "# bias of the last dense layer\n",
    "variables = model_loss.variables[-1]\n",
    "tape.gradient(loss, variables)"
   ]
  },
  {
   "cell_type": "code",
   "execution_count": null,
   "id": "603e5ef6",
   "metadata": {},
   "outputs": [
    {
     "name": "stdout",
     "output_type": "stream",
     "text": [
      "Epoch 1/1000\n",
      "2048/2048 [==============================] - 12s 4ms/step - loss: 22.0765\n",
      "Epoch 2/1000\n",
      "2048/2048 [==============================] - 8s 4ms/step - loss: 31.7059\n",
      "Epoch 3/1000\n",
      "2048/2048 [==============================] - 8s 4ms/step - loss: 19.1041\n",
      "Epoch 4/1000\n",
      "2048/2048 [==============================] - 8s 4ms/step - loss: 18.4369\n",
      "Epoch 5/1000\n",
      "2048/2048 [==============================] - 8s 4ms/step - loss: 18.1734\n",
      "Epoch 6/1000\n",
      "2048/2048 [==============================] - 8s 4ms/step - loss: 17.9959\n",
      "Epoch 7/1000\n",
      "2048/2048 [==============================] - 8s 4ms/step - loss: 18.2402\n",
      "Epoch 8/1000\n",
      "2048/2048 [==============================] - 8s 4ms/step - loss: 17.9759\n",
      "Epoch 9/1000\n",
      "2048/2048 [==============================] - 8s 4ms/step - loss: 17.8844\n",
      "Epoch 10/1000\n",
      "2048/2048 [==============================] - 8s 4ms/step - loss: 17.5983\n",
      "Epoch 11/1000\n",
      "2048/2048 [==============================] - 8s 4ms/step - loss: 17.1111\n",
      "Epoch 12/1000\n",
      "2048/2048 [==============================] - 8s 4ms/step - loss: 16.1887\n",
      "Epoch 13/1000\n",
      "2048/2048 [==============================] - 8s 4ms/step - loss: 14.4423\n",
      "Epoch 14/1000\n",
      "2048/2048 [==============================] - 8s 4ms/step - loss: 11.9157\n",
      "Epoch 15/1000\n",
      "2048/2048 [==============================] - 8s 4ms/step - loss: 9.6242\n",
      "Epoch 16/1000\n",
      "2048/2048 [==============================] - 8s 4ms/step - loss: 7.9294\n",
      "Epoch 17/1000\n",
      "2048/2048 [==============================] - 8s 4ms/step - loss: 7.2047\n",
      "Epoch 18/1000\n",
      "2048/2048 [==============================] - 8s 4ms/step - loss: 6.6242\n",
      "Epoch 19/1000\n",
      "1020/2048 [=============>................] - ETA: 3s - loss: 6.1732"
     ]
    }
   ],
   "source": [
    "callback = ModelCheckpoint('_models/weights{epoch:04d}.h5', save_weights_only=True, overwrite=True)\n",
    "model_loss.save_weights('_models/weights0000.h5')\n",
    "history = model_loss.fit([dW, dN], target, batch_size=batch_size, epochs=1000, callbacks=[callback])\n"
   ]
  },
  {
   "cell_type": "code",
   "execution_count": 24,
   "id": "f30a1e40-4b94-467d-9594-033ab2612be3",
   "metadata": {},
   "outputs": [
    {
     "data": {
      "text/plain": [
       "<tf.Variable 'Variable:0' shape=(1, 4) dtype=float32, numpy=array([[2.1957033, 1.416712 , 3.749401 , 0.2265092]], dtype=float32)>"
      ]
     },
     "execution_count": 24,
     "metadata": {},
     "output_type": "execute_result"
    }
   ],
   "source": [
    "model_loss.variables[1]"
   ]
  },
  {
   "cell_type": "markdown",
   "id": "e844d499",
   "metadata": {},
   "source": [
    "# Display paths and loss"
   ]
  },
  {
   "cell_type": "code",
   "execution_count": 183,
   "id": "6f13900f",
   "metadata": {},
   "outputs": [],
   "source": [
    "# load bad model\n",
    "model_loss.load_weights('_models/weights0001.h5')"
   ]
  },
  {
   "cell_type": "code",
   "execution_count": 25,
   "id": "71d789ff",
   "metadata": {},
   "outputs": [
    {
     "data": {
      "text/plain": [
       "array([[-0.05399251,  0.19388664, -0.06744671, -0.7734908 ],\n",
       "       [ 0.18906283,  0.19388664,  0.04259288, -0.7734908 ],\n",
       "       [ 3.4222124 ,  0.19388664,  0.3228495 ,  0.05090344],\n",
       "       ...,\n",
       "       [ 0.18894172,  0.04759699, -0.10360461, -0.12479764],\n",
       "       [-0.12686372,  0.04088575, -0.09768331,  0.5292703 ],\n",
       "       [ 0.02140617,  0.19388664,  0.40589857, -0.7734908 ]],\n",
       "      dtype=float32)"
      ]
     },
     "execution_count": 25,
     "metadata": {},
     "output_type": "execute_result"
    }
   ],
   "source": [
    "loss = model_loss([dW, dN]).numpy()\n",
    "loss"
   ]
  },
  {
   "cell_type": "code",
   "execution_count": 26,
   "id": "99074637",
   "metadata": {},
   "outputs": [],
   "source": [
    "paths = model_paths([dW, dN]).numpy()"
   ]
  },
  {
   "cell_type": "code",
   "execution_count": 32,
   "id": "e5b0f8b2",
   "metadata": {},
   "outputs": [
    {
     "data": {
      "text/plain": [
       "array([[[ -0.07307,   -0.1896,   -0.3449,   -0.5318],\n",
       "        [  -0.1737,   -0.3291,   -0.4554,   -0.5428],\n",
       "        [    -0.25,      -0.5,     -0.75,        -1],\n",
       "        [    4.141,     8.281,      12.1,     14.81]],\n",
       "\n",
       "       [[    2.252,     2.309,     2.366,   -0.9582],\n",
       "        [    1.222,    0.9644,    0.6282,    0.1127],\n",
       "        [    3.749,     3.455,     2.459,     1.659],\n",
       "        [   0.2265,    0.2265,    0.2265,    0.2265]],\n",
       "\n",
       "       [[        0,         0,     14.56,         0],\n",
       "        [        0,         0,     1.111,      1.16],\n",
       "        [    2.324,     2.425,    0.9417,         0],\n",
       "        [        0,         0,         0,     4.925]],\n",
       "\n",
       "       [[        0,         0,     13.73,         0],\n",
       "        [        0,         0,         0,         0],\n",
       "        [        0,      3.37,     2.115,         0],\n",
       "        [        0,         0,         0,     4.103]],\n",
       "\n",
       "       [[        0,         0,         0,         0],\n",
       "        [        0,         0,         0,         0],\n",
       "        [        0,         0,         0,    0.2052],\n",
       "        [        0,         0,    0.6518,         0]],\n",
       "\n",
       "       [[        0,         0,         0,    0.1084],\n",
       "        [        0,         0,         0,         0],\n",
       "        [        0,         0,         0,    0.3327],\n",
       "        [        0,         0,         0,         0]]], dtype=float32)"
      ]
     },
     "execution_count": 32,
     "metadata": {},
     "output_type": "execute_result"
    }
   ],
   "source": [
    "np.set_printoptions(edgeitems=30, linewidth=100000, formatter=dict(float=lambda x: \"%9.4g\" % x))\n",
    "tf.transpose(paths[50, :, :, :], (1, 2, 0)).numpy()"
   ]
  }
 ],
 "metadata": {
  "kernelspec": {
   "display_name": "Python 3",
   "language": "python",
   "name": "python3"
  },
  "language_info": {
   "codemirror_mode": {
    "name": "ipython",
    "version": 3
   },
   "file_extension": ".py",
   "mimetype": "text/x-python",
   "name": "python",
   "nbconvert_exporter": "python",
   "pygments_lexer": "ipython3",
   "version": "3.9.7"
  }
 },
 "nbformat": 4,
 "nbformat_minor": 5
}
